{
 "cells": [
  {
   "cell_type": "markdown",
   "metadata": {},
   "source": [
    "PPMC"
   ]
  },
  {
   "cell_type": "code",
   "execution_count": 1,
   "metadata": {},
   "outputs": [],
   "source": [
    "from tabulate import tabulate\n",
    "\n",
    "def init_table(K_max):\n",
    "    table = [{'':{'$':0}}]\n",
    "    for _ in range(1, K_max+1):\n",
    "        table.append({})\n",
    "    return table\n",
    "\n",
    "\n",
    "\n",
    "def append_symbol_to_table(text, table, s):\n",
    "    \"\"\"\n",
    "    text\n",
    "    Table table - [{contex:{symbol:count}}]\n",
    "    symbol s\n",
    "    \"\"\"\n",
    "    for i in range(len(table)):\n",
    "        context = '' if i == 0 else text[-i:]\n",
    "        \n",
    "        if context in table[i]:\n",
    "            if s in table[i][context]:\n",
    "                table[i][context][s] += 1\n",
    "            else:\n",
    "                table[i][context][s] = 1\n",
    "                table[i][context]['$'] += 1\n",
    "        elif len(context) == i:\n",
    "            table[i][context] = {s:1, '$':1}\n",
    "    \n",
    "    return table\n",
    "\n",
    "\n",
    "\n",
    "def encode_symbol(text, table, s):\n",
    "    \"\"\"\n",
    "    text\n",
    "    Table table - [{contex:{symbol:count}}]\n",
    "    symbol s\n",
    "    \"\"\"\n",
    "    e = []\n",
    "    for k in range(len(table)-1,-2,-1):\n",
    "        if k == -1:\n",
    "            e.append((s, k))\n",
    "            break\n",
    "\n",
    "        context = '' if k == 0 else text[-k:]\n",
    "\n",
    "        if context in table[k]:\n",
    "            if s in table[k][context]:\n",
    "                e.append((s, k))\n",
    "                break\n",
    "            else:\n",
    "                e.append(('$', k))\n",
    "        else:\n",
    "            e.append(('$', k))\n",
    "    \n",
    "    return e\n",
    "\n",
    "\n",
    "def encode(text, K_max):\n",
    "    \"\"\"\n",
    "    PPMC Encoding\n",
    "    Input: text to encode and K-max\n",
    "    Output: encoded text, current table of ppm and table (tabulate) for encoding\n",
    "    \"\"\"\n",
    "    output_table = []\n",
    "    encoded_text = \"\"\n",
    "\n",
    "    table = init_table(K_max)\n",
    "    for i in range(len(text)):\n",
    "        \n",
    "        # encode\n",
    "        e = encode_symbol(text[:i], table, text[i])\n",
    "        output_table += e\n",
    "        encoded_text += \"\".join([symbol for symbol,_ in e])\n",
    "        \n",
    "        # update table\n",
    "        table = append_symbol_to_table(text[:i], table, text[i])\n",
    "    \n",
    "    return encoded_text, table, tabulate(output_table, headers=[\"Encoded symbol\", \"Order\"], tablefmt=\"pretty\")"
   ]
  },
  {
   "cell_type": "code",
   "execution_count": 2,
   "metadata": {},
   "outputs": [
    {
     "name": "stdout",
     "output_type": "stream",
     "text": [
      "[{'': {'$': 3, 'A': 4, 'C': 5, 'B': 2}}, {'A': {'C': 3, '$': 1}, 'C': {'C': 2, '$': 3, 'B': 2, 'A': 1}, 'B': {'A': 2, '$': 1}}, {'AC': {'C': 2, '$': 2, 'B': 1}, 'CC': {'B': 1, '$': 2, 'A': 1}, 'CB': {'A': 2, '$': 1}, 'BA': {'C': 1, '$': 1}, 'CA': {'C': 1, '$': 1}}]\n"
     ]
    }
   ],
   "source": [
    "# Example for PDF 9 slide 15:\n",
    "K_max = 2\n",
    "table = init_table(K_max)\n",
    "text = \"ACCBACCACBA\"\n",
    "for i in range(len(text)):\n",
    "    table = append_symbol_to_table(text[:i], table, text[i])\n",
    "\n",
    "print(table)"
   ]
  },
  {
   "cell_type": "code",
   "execution_count": 3,
   "metadata": {},
   "outputs": [
    {
     "name": "stdout",
     "output_type": "stream",
     "text": [
      "+----------------+-------+\n",
      "| Encoded symbol | Order |\n",
      "+----------------+-------+\n",
      "|       $        |   2   |\n",
      "|       $        |   1   |\n",
      "|       $        |   0   |\n",
      "|       a        |  -1   |\n",
      "|       $        |   2   |\n",
      "|       $        |   1   |\n",
      "|       $        |   0   |\n",
      "|       b        |  -1   |\n",
      "|       $        |   2   |\n",
      "|       $        |   1   |\n",
      "|       $        |   0   |\n",
      "|       r        |  -1   |\n",
      "|       $        |   2   |\n",
      "|       $        |   1   |\n",
      "|       a        |   0   |\n",
      "|       $        |   2   |\n",
      "|       $        |   1   |\n",
      "|       $        |   0   |\n",
      "|       c        |  -1   |\n",
      "|       $        |   2   |\n",
      "|       $        |   1   |\n",
      "|       a        |   0   |\n",
      "|       $        |   2   |\n",
      "|       $        |   1   |\n",
      "|       $        |   0   |\n",
      "|       d        |  -1   |\n",
      "|       $        |   2   |\n",
      "|       $        |   1   |\n",
      "|       a        |   0   |\n",
      "|       $        |   2   |\n",
      "|       b        |   1   |\n",
      "|       r        |   2   |\n",
      "|       a        |   2   |\n",
      "+----------------+-------+\n",
      "Encoded text: $$$a$$$b$$$r$$a$$$c$$a$$$d$$a$bra\n"
     ]
    }
   ],
   "source": [
    "# Example from PDF 9 slide 16:\n",
    "K_max = 2\n",
    "text = \"abracadabra\"\n",
    "encoded_text, _, output_table = encode(text, K_max)\n",
    "print(output_table)\n",
    "print(\"Encoded text: {}\".format(encoded_text))"
   ]
  },
  {
   "cell_type": "code",
   "execution_count": 4,
   "metadata": {},
   "outputs": [
    {
     "name": "stdout",
     "output_type": "stream",
     "text": [
      "+----------------+-------+\n",
      "| Encoded symbol | Order |\n",
      "+----------------+-------+\n",
      "|       $        |   2   |\n",
      "|       $        |   1   |\n",
      "|       $        |   0   |\n",
      "|       a        |  -1   |\n",
      "|       $        |   2   |\n",
      "|       $        |   1   |\n",
      "|       a        |   0   |\n",
      "|       $        |   2   |\n",
      "|       $        |   1   |\n",
      "|       $        |   0   |\n",
      "|       b        |  -1   |\n",
      "|       $        |   2   |\n",
      "|       $        |   1   |\n",
      "|       b        |   0   |\n",
      "|       $        |   2   |\n",
      "|       $        |   1   |\n",
      "|       a        |   0   |\n",
      "|       $        |   2   |\n",
      "|       a        |   1   |\n",
      "|       b        |   2   |\n",
      "|       b        |   2   |\n",
      "+----------------+-------+\n",
      "Encoded text: $$$a$$a$$$b$$b$$a$abb\n"
     ]
    }
   ],
   "source": [
    "# Example from PDF 9 slide 18:\n",
    "K_max = 2\n",
    "text = \"aabbaabb\"\n",
    "encoded_text, _, output_table = encode(text, K_max)\n",
    "print(output_table)\n",
    "print(\"Encoded text: {}\".format(encoded_text))"
   ]
  },
  {
   "cell_type": "code",
   "execution_count": 5,
   "metadata": {},
   "outputs": [
    {
     "name": "stdout",
     "output_type": "stream",
     "text": [
      "[{'': {'$': 5, 'a': 5, 'b': 2, 'r': 2, 'c': 1, 'd': 1}}, {'a': {'b': 2, '$': 3, 'c': 1, 'd': 1}, 'b': {'r': 2, '$': 1}, 'r': {'a': 2, '$': 1}, 'c': {'a': 1, '$': 1}, 'd': {'a': 1, '$': 1}}, {'ab': {'r': 2, '$': 1}, 'br': {'a': 2, '$': 1}, 'ra': {'c': 1, '$': 1}, 'ac': {'a': 1, '$': 1}, 'ca': {'d': 1, '$': 1}, 'ad': {'a': 1, '$': 1}, 'da': {'b': 1, '$': 1}}]\n"
     ]
    }
   ],
   "source": [
    "# Example from PDF 9 slide 19:\n",
    "K_max = 2\n",
    "text = \"abracadabra\"\n",
    "_, inisde_table, _ = encode(text, K_max)\n",
    "print(inisde_table)"
   ]
  },
  {
   "cell_type": "code",
   "execution_count": 6,
   "metadata": {},
   "outputs": [
    {
     "name": "stdout",
     "output_type": "stream",
     "text": [
      "+----------------+-------+\n",
      "| Encoded symbol | Order |\n",
      "+----------------+-------+\n",
      "|       $        |   1   |\n",
      "|       $        |   0   |\n",
      "|       a        |  -1   |\n",
      "|       $        |   1   |\n",
      "|       a        |   0   |\n",
      "|       $        |   1   |\n",
      "|       $        |   0   |\n",
      "|       b        |  -1   |\n",
      "|       $        |   1   |\n",
      "|       b        |   0   |\n",
      "+----------------+-------+\n",
      "Encoded text: $$a$a$$b$b\n"
     ]
    }
   ],
   "source": [
    "# Example from PDF 9 slide 20:\n",
    "K_max = 1\n",
    "text = \"aabb\"\n",
    "encoded_text, _, output_table = encode(text, K_max)\n",
    "print(output_table)\n",
    "print(\"Encoded text: {}\".format(encoded_text))"
   ]
  },
  {
   "cell_type": "code",
   "execution_count": 7,
   "metadata": {},
   "outputs": [
    {
     "name": "stdout",
     "output_type": "stream",
     "text": [
      "[{'': {'$': 2, 'a': 2, 'b': 2}}, {'a': {'a': 1, '$': 2, 'b': 1}, 'b': {'b': 1, '$': 1}}]\n"
     ]
    }
   ],
   "source": [
    "# Example from PDF 9 slide 25:\n",
    "K_max = 1\n",
    "text = \"aabb\"\n",
    "_, inisde_table, _ = encode(text, K_max)\n",
    "print(inisde_table)"
   ]
  },
  {
   "cell_type": "code",
   "execution_count": 8,
   "metadata": {},
   "outputs": [
    {
     "name": "stdout",
     "output_type": "stream",
     "text": [
      "Encoded text: $$a$a$$b$b$$c\n",
      "[{'': {'$': 3, 'a': 2, 'b': 2, 'c': 1}}, {'a': {'a': 1, '$': 2, 'b': 1}, 'b': {'b': 1, '$': 2, 'c': 1}}]\n"
     ]
    }
   ],
   "source": [
    "# Example from PDF 9 slide 27:\n",
    "K_max = 1\n",
    "text = \"aabbc\"\n",
    "encoded_text, inisde_table, _ = encode(text, K_max)\n",
    "print(\"Encoded text: {}\".format(encoded_text))\n",
    "print(inisde_table)"
   ]
  }
 ],
 "metadata": {
  "kernelspec": {
   "display_name": "Python 3",
   "language": "python",
   "name": "python3"
  },
  "language_info": {
   "codemirror_mode": {
    "name": "ipython",
    "version": 3
   },
   "file_extension": ".py",
   "mimetype": "text/x-python",
   "name": "python",
   "nbconvert_exporter": "python",
   "pygments_lexer": "ipython3",
   "version": "3.9.7"
  }
 },
 "nbformat": 4,
 "nbformat_minor": 2
}
