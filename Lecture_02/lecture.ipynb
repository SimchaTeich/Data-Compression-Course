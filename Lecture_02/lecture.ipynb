{
 "cells": [
  {
   "cell_type": "markdown",
   "metadata": {},
   "source": [
    "Modeling:\n",
    "* Zero order\n",
    "    * Static compression system -\n",
    "    *  The probabilities are independent of the actual\n",
    "        message to be compresses.\n",
    "    *  Example - character based model:\n",
    "        * Alphabet of single character of size 256 (ASCII-America Standard Code for Information Interchange)\n",
    "        * pi = 1/256\n",
    "        * H(P) = -SUM_i=1->256((1/256)*log2(1/256))=8.0"
   ]
  },
  {
   "cell_type": "code",
   "execution_count": 1,
   "metadata": {},
   "outputs": [],
   "source": [
    "# Functions from lecture 1\n",
    "\n",
    "from math import log2\n",
    "from decimal import Decimal\n",
    "\n",
    "def I(p):\n",
    "    \"\"\"\n",
    "    return the Information content of symbol s\n",
    "    with probability p. It means that the codeword\n",
    "    for s, shuold be represented with [-log2(p)]\n",
    "    bits only for the best encode\n",
    "    \"\"\"\n",
    "    return -log2(p)\n",
    "\n",
    "\n",
    "\n",
    "def H(P):\n",
    "    \"\"\"\n",
    "    return the entropy for given distribution P\n",
    "    \"\"\"\n",
    "    return float(sum([Decimal(str(p)) * Decimal(str(I(p))) for p in P]))\n",
    "\n",
    "\n",
    "\n",
    "def K(C):\n",
    "    \"\"\"\n",
    "    return the kraft of given code C\n",
    "    \"\"\"\n",
    "    return float(sum([Decimal(str(2**(-len(c)))) for c in C]))"
   ]
  },
  {
   "cell_type": "code",
   "execution_count": 2,
   "metadata": {},
   "outputs": [],
   "source": [
    "# The message on which we will demonstrate all the concepts in this lecture\n",
    "\n",
    "Message =\\\n",
    "\"\"\"\\\n",
    "Bring me my bow of burning gold!\n",
    "Bring me my arrows of desire!\n",
    "Bring me my spear! O clouds unfold!\n",
    "Bring me my chariot of fire!\n",
    "\"\"\""
   ]
  },
  {
   "cell_type": "code",
   "execution_count": 3,
   "metadata": {},
   "outputs": [
    {
     "name": "stdout",
     "output_type": "stream",
     "text": [
      "pi = 1/256\n",
      "H(P) = -SUM_i=1->256((1/256)*log2(1/256)) = 8.0\n"
     ]
    }
   ],
   "source": [
    "# Static Compression System Example\n",
    "# PDF 2 side 13\n",
    "\n",
    "P = [1/256] * 256\n",
    "print(\"pi = 1/256\")\n",
    "print(\"H(P) = -SUM_i=1->256((1/256)*log2(1/256)) = {0}\".format(H(P)))"
   ]
  },
  {
   "cell_type": "markdown",
   "metadata": {},
   "source": [
    "Modeling:\n",
    "* Zero order\n",
    "    * Semi-Static compression system -\n",
    "        * Examines the message in a preliminary pass to\n",
    "        derive the symbol set and includes a desciption of\n",
    "        those symbols in prelude to the compressed data."
   ]
  },
  {
   "cell_type": "code",
   "execution_count": 4,
   "metadata": {},
   "outputs": [],
   "source": [
    "def symboal_set(T):\n",
    "    \"\"\"\n",
    "    Return the symbol set (python list) of\n",
    "    all the symbols that appearing in text T\n",
    "    \"\"\"\n",
    "    ret = set()\n",
    "    for t in T:\n",
    "        ret.add(t)\n",
    "\n",
    "    return list(ret)"
   ]
  },
  {
   "cell_type": "code",
   "execution_count": 5,
   "metadata": {},
   "outputs": [
    {
     "name": "stdout",
     "output_type": "stream",
     "text": [
      "pi = 1/25\n",
      "H(P) = -SUM_i=1->25((1/25)*log2(1/25)) = 4.64\n",
      "Codewords C: ['00000', '00001', '00010', '00011', '00100', '00101', '00110', '00111', '01000', '01001', '01010', '01011', '01100', '01101', '01110', '01111', '10000', '10001', '10010', '10011', '10100', '10101', '10110', '10111', '11000']\n",
      "K(C) = 0.78\n"
     ]
    }
   ],
   "source": [
    "# Semi-Static Compression model Example\n",
    "# PDF 2 silde 14\n",
    "\n",
    "from math import ceil\n",
    "\n",
    "ALPHABET = symboal_set(Message)\n",
    "n        = len(ALPHABET)\n",
    "P        = [1/n] * n\n",
    "C        = [bin(i)[2:].zfill(ceil(log2(n))) for i in range(n)]\n",
    "\n",
    "print(\"pi = 1/{0}\".format(n))\n",
    "print(\"H(P) = -SUM_i=1->{}((1/{})*log2(1/{})) = {:0.2f}\".format(n, n, n, H(P)))\n",
    "print(\"Codewords C: {}\".format(C))\n",
    "print(\"K(C) = {:0.2f}\".format(K(C)))"
   ]
  },
  {
   "cell_type": "markdown",
   "metadata": {},
   "source": [
    "Modeling:\n",
    "* Zero order\n",
    "    * Semi-Static Self-Probability Compression System -\n",
    "        * pi = vi/m\n",
    "        * where vi - number of occurrences of si\n",
    "        * and m - message size"
   ]
  },
  {
   "cell_type": "code",
   "execution_count": 6,
   "metadata": {},
   "outputs": [],
   "source": [
    "from fractions import Fraction\n",
    "\n",
    "def symbols_and_probability(T):\n",
    "    \"\"\"\n",
    "    Return list of pairs (si, pi=vi/m)\n",
    "    where si - is symball in text T\n",
    "          pi - probability of si in T. \n",
    "    \"\"\"\n",
    "    ret = dict()\n",
    "    for t in T:\n",
    "        if t in ret.keys():\n",
    "            ret[t] += 1\n",
    "        else:\n",
    "            ret[t] = 1\n",
    "    \n",
    "    m = len(T)\n",
    "\n",
    "    return [(s, Fraction(v,m, _normalize=False)) for s,v in ret.items()]  "
   ]
  },
  {
   "cell_type": "code",
   "execution_count": 7,
   "metadata": {},
   "outputs": [
    {
     "name": "stdout",
     "output_type": "stream",
     "text": [
      "+-----+--------+\n",
      "| si  |   pi   |\n",
      "+-----+--------+\n",
      "|  B  | 4/128  |\n",
      "|  r  | 11/128 |\n",
      "|  i  | 8/128  |\n",
      "|  n  | 7/128  |\n",
      "|  g  | 6/128  |\n",
      "| ' ' | 22/128 |\n",
      "|  m  | 8/128  |\n",
      "|  e  | 8/128  |\n",
      "|  y  | 4/128  |\n",
      "|  b  | 2/128  |\n",
      "|  o  | 9/128  |\n",
      "|  w  | 2/128  |\n",
      "|  f  | 5/128  |\n",
      "|  u  | 3/128  |\n",
      "|  l  | 3/128  |\n",
      "|  d  | 4/128  |\n",
      "|  !  | 5/128  |\n",
      "| \\n  | 4/128  |\n",
      "|  a  | 3/128  |\n",
      "|  s  | 4/128  |\n",
      "|  p  | 1/128  |\n",
      "|  O  | 1/128  |\n",
      "|  c  | 2/128  |\n",
      "|  h  | 1/128  |\n",
      "|  t  | 1/128  |\n",
      "+-----+--------+\n",
      "H(P)=4.22\n"
     ]
    }
   ],
   "source": [
    "# Semi-Static Self-Probability Compression model Example\n",
    "# PDF 2 silde 16 & 17\n",
    "\n",
    "from tabulate import tabulate\n",
    "\n",
    "def special_char(c):\n",
    "    if c == '\\n':\n",
    "        return '\\\\n'\n",
    "    elif c == ' ':\n",
    "        return '\\' \\''\n",
    "    else:\n",
    "        return c\n",
    "\n",
    "si_pi = symbols_and_probability(Message)\n",
    "ALPHABET = [special_char(si) for si,_ in si_pi]\n",
    "P = [float(pi) for _, pi in si_pi]\n",
    "P_for_view = [str(pi) for _, pi in si_pi]\n",
    "\n",
    "print(tabulate({'si':ALPHABET, 'pi':P_for_view}, headers=\"keys\", tablefmt=\"pretty\"))\n",
    "print(\"H(P)={:0.2f}\".format(H(P)))"
   ]
  }
 ],
 "metadata": {
  "kernelspec": {
   "display_name": "Python 3",
   "language": "python",
   "name": "python3"
  },
  "language_info": {
   "codemirror_mode": {
    "name": "ipython",
    "version": 3
   },
   "file_extension": ".py",
   "mimetype": "text/x-python",
   "name": "python",
   "nbconvert_exporter": "python",
   "pygments_lexer": "ipython3",
   "version": "3.9.7"
  }
 },
 "nbformat": 4,
 "nbformat_minor": 2
}
