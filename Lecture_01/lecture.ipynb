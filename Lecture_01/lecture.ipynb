{
 "cells": [
  {
   "cell_type": "markdown",
   "metadata": {},
   "source": [
    "Terminology:\n",
    "  * Source alphabet S = [s1, s2, s3, ..., sn]\n",
    "\n",
    "  * Probabiliy      P = [p1, p2, p3, ..., pn]\n",
    "    * Prob(si) == pi for each 1 <= i <= n\n",
    "    * SUM_i=1->n(pi) = 1\n",
    "    * p1 >= p2 >= p3 >= ... >= pn\n",
    "\n",
    "  * Codewords       C = [c1, c2, c3, ..., cn]\n",
    "    * Codewords cost |C| = [|c1|, |c2|, |c3|, ..., |cn|]\n",
    "    * Encode(si) = ci for each 1 <= i <= n\n",
    "\n",
    "  * Expected codeword length E(C, P) = SUM_i=1->n(pi * |ci|)"
   ]
  },
  {
   "cell_type": "code",
   "execution_count": 1,
   "metadata": {},
   "outputs": [],
   "source": [
    "from decimal import Decimal\n",
    "from tabulate import tabulate"
   ]
  },
  {
   "cell_type": "code",
   "execution_count": 2,
   "metadata": {},
   "outputs": [],
   "source": [
    "def ECL(P, C):\n",
    "    \"\"\"\n",
    "    return the E(P, C)\n",
    "    \"\"\"\n",
    "    n = len(C)\n",
    "    return float(sum([Decimal(str(P[i])) * Decimal(str(len(C[i]))) for i in range(n)]))\n"
   ]
  },
  {
   "cell_type": "code",
   "execution_count": 3,
   "metadata": {},
   "outputs": [
    {
     "name": "stdout",
     "output_type": "stream",
     "text": [
      "+-----------------+------+--------+--------+\n",
      "|       si        |  p1  | Code 1 | Code 2 |\n",
      "+-----------------+------+--------+--------+\n",
      "|        a        | 0.67 |  000   |   00   |\n",
      "|        b        | 0.11 |  001   |   01   |\n",
      "|        c        | 0.07 |  010   |  100   |\n",
      "|        d        | 0.06 |  011   |  101   |\n",
      "|        e        | 0.05 |  100   |  110   |\n",
      "|        f        | 0.04 |  101   |  111   |\n",
      "| Expected length |      |  3.0   |  2.22  |\n",
      "+-----------------+------+--------+--------+\n"
     ]
    }
   ],
   "source": [
    "# Example from PDF 1 slide 21 and 23\n",
    "\n",
    "headers = ['si', 'p1', 'Code 1', 'Code 2']\n",
    "table  = [['a' , 0.67, '000'   , '00'],\n",
    "            ['b' , 0.11, '001'   , '01'],\n",
    "            ['c' , 0.07, '010'   , '100'],\n",
    "            ['d' , 0.06, '011'   , '101'],\n",
    "            ['e' , 0.05, '100'   , '110'],\n",
    "            ['f' , 0.04, '101'   , '111']]\n",
    "n = 6\n",
    "P  = [table[i][1] for i in range(n)]\n",
    "C1 = [table[i][2] for i in range(n)]\n",
    "C2 = [table[i][3] for i in range(n)]\n",
    "\n",
    "table.append(['Expected length', '',ECL(P, C1), ECL(P, C2)])\n",
    "\n",
    "print(tabulate(table, headers=headers, tablefmt=\"pretty\"))"
   ]
  },
  {
   "cell_type": "code",
   "execution_count": 4,
   "metadata": {},
   "outputs": [
    {
     "name": "stdout",
     "output_type": "stream",
     "text": [
      "+-----------------+-------+--------+--------+--------+--------+\n",
      "|       si        |  p1   | Code 1 | Code 2 | Code 3 | Code 4 |\n",
      "+-----------------+-------+--------+--------+--------+--------+\n",
      "|        a        |  0.5  |   0    |   0    |   0    |   0    |\n",
      "|        b        | 0.25  |   0    |   1    |   10   |   01   |\n",
      "|        c        | 0.125 |   1    |   00   |  110   |  011   |\n",
      "|        d        | 0.125 |   10   |   11   |  111   |  0111  |\n",
      "| Expected length |       | 1.125  |  1.25  |  1.75  | 1.875  |\n",
      "+-----------------+-------+--------+--------+--------+--------+\n"
     ]
    }
   ],
   "source": [
    "# Example from PDF 1 slide 12\n",
    "\n",
    "headers = ['si',  'p1', 'Code 1', 'Code 2', 'Code 3', 'Code 4']\n",
    "table  = [['a' ,   0.5, '0'     , '0'     , '0'     , '0'   ],\n",
    "            ['b' ,  0.25, '0'     , '1'     , '10'    , '01'  ],\n",
    "            ['c' , 0.125, '1'     , '00'    , '110'   , '011' ],\n",
    "            ['d' , 0.125, '10'    , '11'    , '111'   , '0111']]\n",
    "n = 4\n",
    "P  = [table[i][1] for i in range(n)]\n",
    "C1 = [table[i][2] for i in range(n)]\n",
    "C2 = [table[i][3] for i in range(n)]\n",
    "C3 = [table[i][4] for i in range(n)]\n",
    "C4 = [table[i][5] for i in range(n)]\n",
    "\n",
    "table.append(['Expected length', '',ECL(P, C1), ECL(P, C2), ECL(P, C3), ECL(P, C4)])\n",
    "\n",
    "print(tabulate(table, headers=headers, tablefmt=\"pretty\"))"
   ]
  },
  {
   "cell_type": "code",
   "execution_count": 5,
   "metadata": {},
   "outputs": [
    {
     "name": "stdout",
     "output_type": "stream",
     "text": [
      "+-----------------+------+--------+\n",
      "|       si        |  p1  | Code 3 |\n",
      "+-----------------+------+--------+\n",
      "|        a        | 0.67 |   0    |\n",
      "|        b        | 0.11 |  100   |\n",
      "|        c        | 0.07 |  101   |\n",
      "|        d        | 0.06 |  110   |\n",
      "|        e        | 0.05 |  1110  |\n",
      "|        f        | 0.04 |  1111  |\n",
      "| Expected length |      |  1.75  |\n",
      "+-----------------+------+--------+\n"
     ]
    }
   ],
   "source": [
    "# Example from PDF 1 slide 20\n",
    "\n",
    "headers = ['si', 'p1', 'Code 3']\n",
    "table  = [['a' , 0.67, '0'   ],\n",
    "            ['b' , 0.11, '100' ],\n",
    "            ['c' , 0.07, '101' ],\n",
    "            ['d' , 0.06, '110' ],\n",
    "            ['e' , 0.05, '1110'],\n",
    "            ['f' , 0.04, '1111']]\n",
    "n = 6\n",
    "P  = [table[i][1] for i in range(n)]\n",
    "C3 = [table[i][2] for i in range(n)]\n",
    "\n",
    "table.append(['Expected length', '',ECL(P, C3)])\n",
    "\n",
    "print(tabulate(table, headers=headers, tablefmt=\"pretty\"))"
   ]
  },
  {
   "cell_type": "markdown",
   "metadata": {},
   "source": [
    "\n",
    "Terminology:\n",
    "* UD Code is any given sequence of codewords can be\n",
    "    decoded in a single way\n",
    "\n",
    "* Let 'a' and 'b' be two binary codewords where |'a'|=k\n",
    "    bits and |'b'|=n bits, k<n. If the first k bits of 'b'\n",
    "    are identical to 'a' then 'a' is called a PREFFIX of\n",
    "    'b'. The last n - k bits are called the DANGLING SUFFIX.\n",
    "\n",
    "    * Example: a=010, b=01011, dangling-sufffix=11\n",
    "\n",
    "* UD Test is an algorithm to test if given C is a UD Code\n",
    "    * Examine all pairs of codewords:\n",
    "    1. Construct a list of all codewords.\n",
    "    2. If there exist a codeword, 'a', witch is a preffix\n",
    "        of another codeword, 'b', add the dangling suffix\n",
    "        to the list (if it is not there already), until:\n",
    "        I. You get a dangling suffix that is an ORIGINAL\n",
    "            codeword --> the code is not UD\n",
    "        II. There are no more unique dangling suffix -->\n",
    "            the code is UD"
   ]
  },
  {
   "cell_type": "code",
   "execution_count": 6,
   "metadata": {},
   "outputs": [],
   "source": [
    "def dangling_suffix(c1, c2):\n",
    "    \"\"\"\n",
    "    Return the dangling suffix of c1 and c2. (order does matter)\n",
    "    \"\"\"\n",
    "    if c1 == c2[:len(c1)]:\n",
    "        return c2[len(c1):]\n",
    "    else:\n",
    "        return None\n",
    "\n",
    "\n",
    "\n",
    "def left_quotient(S, T):\n",
    "    \"\"\"\n",
    "    Return the left quotient group of two groups (order does matter)\n",
    "    \"\"\"\n",
    "    ret = set()\n",
    "\n",
    "    for s in S:\n",
    "        for t in T:\n",
    "            dangling = dangling_suffix(s,t)\n",
    "            if dangling:\n",
    "                ret.add(dangling)\n",
    "    \n",
    "    return list(ret)\n",
    "\n",
    "\n",
    "\n",
    "def UD_test(C):\n",
    "    \"\"\"\n",
    "    Run the Sardinas-Patterson algorithm for UD test\n",
    "    Return: True if the given codeword list C is UD,\n",
    "            or False if C isn't UD\n",
    "    \"\"\"\n",
    "    print(\"List: \", C)\n",
    "    S = [None] # S[1], S[2]... are dangling list (from index 1, not 0)\n",
    "\n",
    "    S.append(left_quotient(C, C))\n",
    "    i = 1\n",
    "    print(\"List: \", S[i])\n",
    "    while True:\n",
    "        S.append(list(set(left_quotient(C,S[i]) + left_quotient(S[i], C))))\n",
    "        i += 1\n",
    "        print(\"List: \", S[i])\n",
    "\n",
    "        for c in C:\n",
    "            if c in S[i]:\n",
    "                return False\n",
    "        \n",
    "        if set(S[i]) == set(S[i-1]):\n",
    "            return True"
   ]
  },
  {
   "cell_type": "code",
   "execution_count": 7,
   "metadata": {},
   "outputs": [
    {
     "name": "stdout",
     "output_type": "stream",
     "text": [
      "List:  ['0', '01', '11']\n",
      "List:  ['1']\n",
      "List:  ['1']\n",
      "UD\n"
     ]
    }
   ],
   "source": [
    "# Example from PDF 1 slide 17\n",
    "\n",
    "C = ['0', '01', '11']\n",
    "if UD_test(C):\n",
    "    print(\"UD\")\n",
    "else:\n",
    "    print(\"Not UD\")"
   ]
  },
  {
   "cell_type": "code",
   "execution_count": 8,
   "metadata": {},
   "outputs": [
    {
     "name": "stdout",
     "output_type": "stream",
     "text": [
      "List:  ['0', '01', '10']\n",
      "List:  ['1']\n",
      "List:  ['0']\n",
      "Not UD\n"
     ]
    }
   ],
   "source": [
    "# Example from PDF 1 slide 18\n",
    "\n",
    "C = ['0', '01', '10']\n",
    "if UD_test(C):\n",
    "    print(\"UD\")\n",
    "else:\n",
    "    print(\"Not UD\")"
   ]
  },
  {
   "cell_type": "code",
   "execution_count": 9,
   "metadata": {},
   "outputs": [
    {
     "name": "stdout",
     "output_type": "stream",
     "text": [
      "List:  ['01', '10', '0', '11']\n",
      "List:  ['1']\n",
      "List:  ['0', '1']\n",
      "Not UD\n"
     ]
    }
   ],
   "source": [
    "# Example of student in the class\n",
    "\n",
    "C = ['01', '10', '0', '11']\n",
    "if UD_test(C):\n",
    "    print(\"UD\")\n",
    "else:\n",
    "    print(\"Not UD\")"
   ]
  },
  {
   "cell_type": "markdown",
   "metadata": {},
   "source": [
    "Terminology:\n",
    "* Shannon at 1948: The amount of information contained in\n",
    "    a symbol si of probaility pi is:\n",
    "    I(si) = -log2(pi)\n",
    "    * A code shuold be able to be devised such that the\n",
    "    codeword for si contains I(si) bits\n",
    "\n",
    "* Entropy is the average of the information per symbol.\n",
    "    * Given a probability distribution P With alphabet size\n",
    "    n, define:\n",
    "    H(P) = -SUM_i=1->n(pi * log2(pi))\n",
    "    H(P) = SUM_i=1->n(pi * I(si))\n",
    "    * For all unambiguous codes C:\n",
    "    H(P) <= E(P, C)\n",
    "\n",
    "* Kraft inequality for code C is:\n",
    "    K(C) = SUM_i=1->n(2^(-|ci|))"
   ]
  },
  {
   "cell_type": "code",
   "execution_count": 10,
   "metadata": {},
   "outputs": [],
   "source": [
    "from math import log2"
   ]
  },
  {
   "cell_type": "code",
   "execution_count": 11,
   "metadata": {},
   "outputs": [],
   "source": [
    "def I(p):\n",
    "    \"\"\"\n",
    "    return the Information content of symbol s\n",
    "    with probability p. It means that the codeword\n",
    "    for s, shuold be represented with [-log2(p)]\n",
    "    bits only for the best encode\n",
    "    \"\"\"\n",
    "    return -log2(p)\n",
    "\n",
    "\n",
    "\n",
    "def H(P):\n",
    "    \"\"\"\n",
    "    return the entropy for given distribution P\n",
    "    \"\"\"\n",
    "    return float(sum([Decimal(str(p)) * Decimal(str(I(p))) for p in P]))\n",
    "\n",
    "\n",
    "\n",
    "def K(C):\n",
    "    \"\"\"\n",
    "    return the kraft of given code C\n",
    "    \"\"\"\n",
    "    return float(sum([Decimal(str(2**(-len(c)))) for c in C]))"
   ]
  },
  {
   "cell_type": "code",
   "execution_count": 12,
   "metadata": {},
   "outputs": [
    {
     "name": "stdout",
     "output_type": "stream",
     "text": [
      "+----+------+-------+\n",
      "| si |  pi  | I(si) |\n",
      "+----+------+-------+\n",
      "| a  | 0.67 | 0.58  |\n",
      "| b  | 0.11 | 3.18  |\n",
      "| c  | 0.07 | 3.84  |\n",
      "| d  | 0.06 | 4.06  |\n",
      "| e  | 0.05 | 4.32  |\n",
      "| f  | 0.04 | 4.64  |\n",
      "+----+------+-------+\n",
      "H(P)=1.65\n"
     ]
    }
   ],
   "source": [
    "# Example from PDF 1 slide 21 and 23\n",
    "\n",
    "ALPHABET    = ['a' ,'b'  ,'c'  ,'d'  ,'e'  ,'f'  ]\n",
    "Probability = [0.67, 0.11, 0.07, 0.06, 0.05, 0.04]\n",
    "Information = [float(\"{:0.2f}\".format(I(p))) for p in Probability]\n",
    "\n",
    "print(tabulate({'si':ALPHABET, 'pi':Probability, 'I(si)':Information}, headers=\"keys\", tablefmt=\"pretty\"))\n",
    "print(\"H(P)={:0.2f}\".format(H(Probability)))"
   ]
  },
  {
   "cell_type": "code",
   "execution_count": 13,
   "metadata": {},
   "outputs": [
    {
     "name": "stdout",
     "output_type": "stream",
     "text": [
      "+-----------------+------+--------+--------+\n",
      "|       si        |  p1  | Code 1 | Code 2 |\n",
      "+-----------------+------+--------+--------+\n",
      "|        a        | 0.67 |  000   |   00   |\n",
      "|        b        | 0.11 |  001   |   01   |\n",
      "|        c        | 0.07 |  010   |  100   |\n",
      "|        d        | 0.06 |  011   |  101   |\n",
      "|        e        | 0.05 |  100   |  110   |\n",
      "|        f        | 0.04 |  101   |  111   |\n",
      "| Expected length |      |  3.0   |  2.22  |\n",
      "+-----------------+------+--------+--------+\n",
      "Code 1: K(C)=0.75\n",
      "Code 2: K(C)=1.0\n"
     ]
    }
   ],
   "source": [
    "# Example from PDF 1 slide 27\n",
    "\n",
    "headers = ['si', 'p1', 'Code 1', 'Code 2']\n",
    "table  = [['a' , 0.67, '000'   , '00'],\n",
    "            ['b' , 0.11, '001'   , '01'],\n",
    "            ['c' , 0.07, '010'   , '100'],\n",
    "            ['d' , 0.06, '011'   , '101'],\n",
    "            ['e' , 0.05, '100'   , '110'],\n",
    "            ['f' , 0.04, '101'   , '111']]\n",
    "n = 6\n",
    "P  = [table[i][1] for i in range(n)]\n",
    "C1 = [table[i][2] for i in range(n)]\n",
    "C2 = [table[i][3] for i in range(n)]\n",
    "\n",
    "table.append(['Expected length', '',ECL(P, C1), ECL(P, C2)])\n",
    "\n",
    "print(tabulate(table, headers=headers, tablefmt=\"pretty\"))\n",
    "print(\"Code 1: K(C)={0}\".format(K(C1)))\n",
    "print(\"Code 2: K(C)={0}\".format(K(C2)))"
   ]
  }
 ],
 "metadata": {
  "kernelspec": {
   "display_name": "Python 3",
   "language": "python",
   "name": "python3"
  },
  "language_info": {
   "codemirror_mode": {
    "name": "ipython",
    "version": 3
   },
   "file_extension": ".py",
   "mimetype": "text/x-python",
   "name": "python",
   "nbconvert_exporter": "python",
   "pygments_lexer": "ipython3",
   "version": "3.9.7"
  }
 },
 "nbformat": 4,
 "nbformat_minor": 2
}
