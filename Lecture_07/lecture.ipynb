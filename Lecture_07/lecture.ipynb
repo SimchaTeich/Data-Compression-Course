{
 "cells": [
  {
   "cell_type": "markdown",
   "metadata": {},
   "source": [
    "LZ77 (1977 by Ziv and Lempel) compression (Sliding Window Compression)\n",
    "* Uses previously seen text as a dictionary\n",
    "* It replaces phrase in the input text with pointers into the dictionary to achieve compression.\n",
    "\n",
    "+-----------------------------+-------------------+<br>\n",
    "|&nbsp;&nbsp;&nbsp;&nbsp;&nbsp;&nbsp;&nbsp;&nbsp;&nbsp;&nbsp;&nbsp;&nbsp;&nbsp;&nbsp;&nbsp;&nbsp;&nbsp;Window&nbsp;&nbsp;&nbsp;&nbsp;&nbsp;&nbsp;&nbsp;&nbsp;&nbsp;&nbsp;&nbsp;&nbsp;&nbsp;| Look Ahead Buffer |<br>+-----------------------------+-------------------+<br>\n",
    "\n",
    "* text window: recently encoded text\n",
    "* look ahead buffer: those to be encoded\n",
    "* Token (offset, length, symbol):\n",
    "    * an offset to a phrase in the text window\n",
    "    * the length of the phrase\n",
    "    * the first symbol in the look-ahead buffer that follows the phrase.\n",
    "* A token defines a phrase of variable length in the current look ahead buffer"
   ]
  },
  {
   "cell_type": "code",
   "execution_count": 1,
   "metadata": {},
   "outputs": [],
   "source": [
    "def longest_mutch(window, look_ahead):\n",
    "    \"\"\"\n",
    "    find the longest look_ahead prefix in window,\n",
    "    with the shortest offset.\n",
    "    Input: window - the string to scan for maching inside it\n",
    "           look-ahead - the prefix of that string to search for.\n",
    "    Output: (offset, len)\n",
    "    \"\"\"\n",
    "    mutch = None\n",
    "    maxlen = 0\n",
    "\n",
    "    for i in range(len(window)):\n",
    "        length = 0\n",
    "        j = i\n",
    "        for k in range(0, len(look_ahead)):\n",
    "            if j < len(window) and window[j] == look_ahead[k]:\n",
    "                length += 1\n",
    "                j += 1\n",
    "            else:\n",
    "                break\n",
    "        \n",
    "        if length > 0:\n",
    "            if length >= maxlen:\n",
    "                mutch = (i, length)\n",
    "                maxlen = length\n",
    "    \n",
    "    return mutch"
   ]
  },
  {
   "cell_type": "code",
   "execution_count": 2,
   "metadata": {},
   "outputs": [],
   "source": [
    "def lz77_v0_encode(T):\n",
    "    \"\"\"\n",
    "    LZ77 version 0 encoding - no windows size limit\n",
    "    return list of tokens\n",
    "    token looks like (offset, length, simbol)\n",
    "    \"\"\"\n",
    "    textlen = len(T)\n",
    "    simbol_set = set()\n",
    "    tokens = []\n",
    "\n",
    "    p = 0 # partition\n",
    "    while p < textlen:\n",
    "        window = T[:p]\n",
    "        look_ahead = T[p:]\n",
    "\n",
    "        # new character\n",
    "        if T[p] not in simbol_set:\n",
    "            tokens.append((0, 0, T[p]))\n",
    "            simbol_set.add(T[p])\n",
    "            p = p + 1\n",
    "        \n",
    "        else:\n",
    "            # search fo longet mutch of look_ahead in window.\n",
    "            start, length = longest_mutch(window, look_ahead)\n",
    "            if length < len(look_ahead):\n",
    "                tokens.append((p-start, length, look_ahead[length]))\n",
    "            else:\n",
    "                tokens.append((p-start, length, ''))\n",
    "            p = p + length + 1\n",
    "    \n",
    "    return tokens"
   ]
  },
  {
   "cell_type": "code",
   "execution_count": 3,
   "metadata": {},
   "outputs": [],
   "source": [
    "def lz77_v0_decode(tokens):\n",
    "    \"\"\"\n",
    "    Input: list of tokens [(offset, length, simbol)]\n",
    "    Output: the deocded text\n",
    "    \"\"\"\n",
    "    T = \"\"\n",
    "    \n",
    "    p = 0\n",
    "    for f, l, c in tokens:\n",
    "        T += T[p-f:p-f+l]\n",
    "        T += c\n",
    "        p = p+l+1\n",
    "    \n",
    "    return T"
   ]
  },
  {
   "cell_type": "code",
   "execution_count": 4,
   "metadata": {},
   "outputs": [
    {
     "name": "stdout",
     "output_type": "stream",
     "text": [
      "Text: A_walrus_in_Spain_is_a_walrus_in_vain.\n",
      "Encode: [(0, 0, 'A'), (0, 0, '_'), (0, 0, 'w'), (0, 0, 'a'), (0, 0, 'l'), (0, 0, 'r'), (0, 0, 'u'), (0, 0, 's'), (7, 1, 'i'), (0, 0, 'n'), (3, 1, 'S'), (0, 0, 'p'), (11, 1, 'i'), (6, 2, 'i'), (12, 2, 'a'), (21, 11, 'v'), (20, 3, '.')]\n",
      "Decode: A_walrus_in_Spain_is_a_walrus_in_vain.\n"
     ]
    }
   ],
   "source": [
    "# LZ77 example PDF7 slide 9:\n",
    "T = \"A_walrus_in_Spain_is_a_walrus_in_vain.\"\n",
    "lz77_tokens = lz77_v0_encode(T)\n",
    "print(\"Text: {}\".format(T))\n",
    "print(\"Encode: {}\".format(lz77_tokens))\n",
    "print(\"Decode: {}\".format(lz77_v0_decode(lz77_tokens)))"
   ]
  },
  {
   "cell_type": "code",
   "execution_count": 5,
   "metadata": {},
   "outputs": [
    {
     "name": "stdout",
     "output_type": "stream",
     "text": [
      "Text: aaaaaaaaaaaaaaaaaaaaaaaaaaaaaaaaaaaaaaaaaaaaaaaaaaaaaaaaaaaaaaaaaaaaaaaaaaaaaaaaaaaaaaaaaaaaaaaaaaaa\n",
      "Encode: [(0, 0, 'a'), (1, 1, 'a'), (3, 3, 'a'), (7, 7, 'a'), (15, 15, 'a'), (31, 31, 'a'), (37, 37, '')]\n",
      "Decode: aaaaaaaaaaaaaaaaaaaaaaaaaaaaaaaaaaaaaaaaaaaaaaaaaaaaaaaaaaaaaaaaaaaaaaaaaaaaaaaaaaaaaaaaaaaaaaaaaaaa\n"
     ]
    }
   ],
   "source": [
    "# LZ77 example from class:\n",
    "T = \"a\" * 100\n",
    "lz77_tokens = lz77_v0_encode(T)\n",
    "print(\"Text: {}\".format(T))\n",
    "print(\"Encode: {}\".format(lz77_tokens))\n",
    "print(\"Decode: {}\".format(lz77_v0_decode(lz77_tokens)))"
   ]
  }
 ],
 "metadata": {
  "kernelspec": {
   "display_name": "Python 3",
   "language": "python",
   "name": "python3"
  },
  "language_info": {
   "codemirror_mode": {
    "name": "ipython",
    "version": 3
   },
   "file_extension": ".py",
   "mimetype": "text/x-python",
   "name": "python",
   "nbconvert_exporter": "python",
   "pygments_lexer": "ipython3",
   "version": "3.9.7"
  }
 },
 "nbformat": 4,
 "nbformat_minor": 2
}
