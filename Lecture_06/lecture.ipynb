{
 "cells": [
  {
   "cell_type": "markdown",
   "metadata": {},
   "source": [
    "Arithmetic Coding:\n",
    "\n",
    "* Replace the entire input with a single floating-point number\n",
    "* Does not need the probability distribution (what??..)\n",
    "* Adaptive coding is very easy\n",
    "* No need to keep and send codewords tables (in pre-load)\n",
    "* Fractional codeword longth"
   ]
  },
  {
   "cell_type": "code",
   "execution_count": 1,
   "metadata": {},
   "outputs": [],
   "source": [
    "from decimal import Decimal\n",
    "from tabulate import tabulate"
   ]
  },
  {
   "cell_type": "code",
   "execution_count": 2,
   "metadata": {},
   "outputs": [],
   "source": [
    "def interval_bounds(S_P):\n",
    "    \"\"\"\n",
    "    divide interval [0,1] py probabilities P\n",
    "    Input: list of probabilities P\n",
    "    Output: {S: (low, high)}\n",
    "    \"\"\"\n",
    "    S = list(S_P.keys())\n",
    "    P = list(S_P.values())\n",
    "    n = len(S_P)\n",
    "    l = [0]\n",
    "\n",
    "    for i in range(n):\n",
    "        l.append(float(Decimal(str(l[-1])) + Decimal(str(P[i]))))\n",
    "    \n",
    "    return {s: (l, h) for s, l, h in zip(S,l[:-1], l[1:])}"
   ]
  },
  {
   "cell_type": "code",
   "execution_count": 3,
   "metadata": {},
   "outputs": [],
   "source": [
    "def print_table(S_P):\n",
    "    S_L_H = interval_bounds(S_P)\n",
    "    S = [s for s, (_, _) in S_L_H.items()]\n",
    "    L = [l for _, (l, _) in S_L_H.items()]\n",
    "    H = [h for _, (_, h) in S_L_H.items()]\n",
    "    P = list(S_P.values())\n",
    "\n",
    "    print(tabulate({'Si':S, 'Pi':P, 'low_bound':L, 'high_bound':H}, headers=\"keys\", tablefmt=\"pretty\"))"
   ]
  },
  {
   "cell_type": "code",
   "execution_count": 4,
   "metadata": {},
   "outputs": [
    {
     "name": "stdout",
     "output_type": "stream",
     "text": [
      "+----+------+-----------+------------+\n",
      "| Si |  Pi  | low_bound | high_bound |\n",
      "+----+------+-----------+------------+\n",
      "| A  | 0.67 |     0     |    0.67    |\n",
      "| B  | 0.11 |   0.67    |    0.78    |\n",
      "| C  | 0.07 |   0.78    |    0.85    |\n",
      "| D  | 0.06 |   0.85    |    0.91    |\n",
      "| E  | 0.05 |   0.91    |    0.96    |\n",
      "| F  | 0.04 |   0.96    |    1.0     |\n",
      "+----+------+-----------+------------+\n"
     ]
    }
   ],
   "source": [
    "# Example for PDF 6 slide 6:\n",
    "S_P = {'A': 0.67,\n",
    "        'B': 0.11,\n",
    "        'C': 0.07,\n",
    "        'D': 0.06,\n",
    "        'E': 0.05,\n",
    "        'F': 0.04}\n",
    "print_table(S_P)"
   ]
  },
  {
   "cell_type": "code",
   "execution_count": 5,
   "metadata": {},
   "outputs": [],
   "source": [
    "def encode(M, S_P):\n",
    "    \"\"\"\n",
    "    Arithmetic encoding.\n",
    "    Input: msg M to encode\n",
    "    Output: 1) number inside the last range,\n",
    "            2) table (tabulate type) of calculates with the next columns:\n",
    "               - Low\n",
    "               - High\n",
    "               - Range\n",
    "            3) msg length (for the decoder)\n",
    "    \"\"\"\n",
    "    S_L_H = interval_bounds(S_P)\n",
    "    n     = len(S_P)\n",
    "    k     = len(M)\n",
    "    Low   = [0.0]\n",
    "    High  = [1.0]\n",
    "    Range = [1.0]\n",
    "    \n",
    "    low = 0.0\n",
    "    high = 1.0\n",
    "    for i in range(k):\n",
    "        r = Range[i]\n",
    "        symbol = M[i]\n",
    "        \n",
    "        high = float(Decimal(str(low)) + Decimal(str(S_L_H[symbol][1])) * Decimal(str(r)))\n",
    "        High.append(high)\n",
    "        \n",
    "        low = float(Decimal(str(low)) + Decimal(str(S_L_H[symbol][0])) * Decimal(str(r)))\n",
    "        Low.append(low)\n",
    "\n",
    "        Range.append(float(Decimal(str(high)) - Decimal(str(low))))\n",
    "\n",
    "    T = tabulate({'M[i]':'-'+M, 'Low':Low, 'High':High, 'Range':Range}, headers=\"keys\", tablefmt=\"pretty\")\n",
    "    e = float(Decimal(str(Low[-1])) + (Decimal(str(High[-1])) - Decimal(str(Low[-1])))/2)\n",
    "\n",
    "    return e, T, k"
   ]
  },
  {
   "cell_type": "code",
   "execution_count": 6,
   "metadata": {},
   "outputs": [],
   "source": [
    "def decode(e, S_P, k):\n",
    "    \"\"\"\n",
    "    Arithmetic decoding.\n",
    "    Input: encoded number e,\n",
    "           Symbols with Probabilities S_P,\n",
    "           k is number of characters in M.\n",
    "    Output: msg M\n",
    "    \"\"\"\n",
    "    S_L_P = interval_bounds(S_P)\n",
    "    M = \"\"\n",
    "\n",
    "    for _ in range(k):\n",
    "        symbol = ''\n",
    "        for s, (l, h) in S_L_P.items():\n",
    "            if l <= e and e < h:\n",
    "                symbol = s\n",
    "                M += symbol\n",
    "                break\n",
    "        \n",
    "        r = Decimal(str(S_L_P[symbol][1])) - Decimal(str(S_L_P[symbol][0]))\n",
    "        e = float((Decimal(str(e)) - Decimal(str(S_L_P[symbol][0])))/r)\n",
    "\n",
    "    return M"
   ]
  },
  {
   "cell_type": "code",
   "execution_count": 7,
   "metadata": {},
   "outputs": [
    {
     "name": "stdout",
     "output_type": "stream",
     "text": [
      "+------+--------------------+---------------------+--------------------+\n",
      "| M[i] |        Low         |        High         |       Range        |\n",
      "+------+--------------------+---------------------+--------------------+\n",
      "|  -   |        0.0         |         1.0         |        1.0         |\n",
      "|  A   |        0.0         |        0.67         |        0.67        |\n",
      "|  B   |       0.4489       |       0.5226        |       0.0737       |\n",
      "|  A   |       0.4489       |      0.498279       |      0.049379      |\n",
      "|  A   |       0.4489       |     0.48198393      |     0.03308393     |\n",
      "|  A   |       0.4489       |    0.4710662331     |    0.0221662331    |\n",
      "|  E   |   0.469071272121   |   0.470179583776    |   0.001108311655   |\n",
      "|  A   |   0.469071272121   |  0.46981384092985   |  0.00074256880885  |\n",
      "|  A   |   0.469071272121   | 0.4695687932229295  | 0.0004975211019295 |\n",
      "|  B   | 0.4694046112592928 | 0.46945933858050504 | 5.472732121224e-05 |\n",
      "|  A   | 0.4694046112592928 |  0.469441278564505  | 3.66673052122e-05  |\n",
      "+------+--------------------+---------------------+--------------------+\n",
      "encode(ABAAAEAABA)=0.4694229449118989\n",
      "decode(0.4694229449118989)=ABAAAEAABA\n"
     ]
    }
   ],
   "source": [
    "# Example for PDF 6 slide 8:\n",
    "M       = \"ABAAAEAABA\"\n",
    "S_P     = {'A': 0.67,\n",
    "            'B': 0.11,\n",
    "            'C': 0.07,\n",
    "            'D': 0.06,\n",
    "            'E': 0.05,\n",
    "            'F': 0.04}\n",
    "e, T, k = encode(M, S_P)\n",
    "print(T)\n",
    "print(\"encode({})={}\".format(M, e))\n",
    "print(\"decode({})={}\".format(e, decode(e, S_P, k)))"
   ]
  },
  {
   "cell_type": "code",
   "execution_count": 8,
   "metadata": {},
   "outputs": [
    {
     "name": "stdout",
     "output_type": "stream",
     "text": [
      "+------+------------+-----------+------------+\n",
      "| M[i] |    Low     |   High    |   Range    |\n",
      "+------+------------+-----------+------------+\n",
      "|  -   |    0.0     |    1.0    |    1.0     |\n",
      "|  A   |    0.0     |    0.9    |    0.9     |\n",
      "|  A   |    0.0     |   0.81    |    0.81    |\n",
      "|  A   |    0.0     |   0.729   |   0.729    |\n",
      "|  A   |    0.0     |  0.6561   |   0.6561   |\n",
      "|  A   |    0.0     |  0.59049  |  0.59049   |\n",
      "|  A   |    0.0     | 0.531441  |  0.531441  |\n",
      "|  A   |    0.0     | 0.4782969 | 0.4782969  |\n",
      "|  $   | 0.43046721 | 0.4782969 | 0.04782969 |\n",
      "+------+------------+-----------+------------+\n",
      "encode(AAAAAAA$)=0.454382055\n",
      "decode(0.454382055)=AAAAAAA$\n"
     ]
    }
   ],
   "source": [
    "# Example for PDF 6 slide 11:\n",
    "M       = \"AAAAAAA$\"\n",
    "S_P     = {'A':0.9, '$':0.1}\n",
    "e, T, k = encode(M, S_P)\n",
    "print(T)\n",
    "print(\"encode({})={}\".format(M, e))\n",
    "print(\"decode({})={}\".format(e, decode(e, S_P, k)))"
   ]
  },
  {
   "cell_type": "code",
   "execution_count": 9,
   "metadata": {},
   "outputs": [
    {
     "name": "stdout",
     "output_type": "stream",
     "text": [
      "+----+------+-----------+------------+\n",
      "| Si |  Pi  | low_bound | high_bound |\n",
      "+----+------+-----------+------------+\n",
      "| B  | 0.25 |     0     |    0.25    |\n",
      "| I  | 0.25 |   0.25    |    0.5     |\n",
      "| L  | 0.5  |    0.5    |    1.0     |\n",
      "+----+------+-----------+------------+\n",
      "+------+----------+-------+----------+\n",
      "| M[i] |   Low    | High  |  Range   |\n",
      "+------+----------+-------+----------+\n",
      "|  -   |   0.0    |  1.0  |   1.0    |\n",
      "|  B   |   0.0    | 0.25  |   0.25   |\n",
      "|  I   |  0.0625  | 0.125 |  0.0625  |\n",
      "|  L   | 0.09375  | 0.125 | 0.03125  |\n",
      "|  L   | 0.109375 | 0.125 | 0.015625 |\n",
      "+------+----------+-------+----------+\n",
      "encode(BILL)=0.1171875\n",
      "decode(0.1171875)=BILL\n"
     ]
    }
   ],
   "source": [
    "# Example for PDF 6 slide 15:\n",
    "M       = \"BILL\"\n",
    "S_P     = {'B':0.25, 'I':0.25, 'L':0.5}\n",
    "print_table(S_P)\n",
    "\n",
    "e, T, k = encode(M, S_P)\n",
    "print(T)\n",
    "print(\"encode({})={}\".format(M, e))\n",
    "print(\"decode({})={}\".format(e, decode(e, S_P, k)))"
   ]
  },
  {
   "cell_type": "markdown",
   "metadata": {},
   "source": [
    "Adaptive Arithmetic Coding"
   ]
  },
  {
   "cell_type": "code",
   "execution_count": 10,
   "metadata": {},
   "outputs": [],
   "source": [
    "def adaptive_p(s, N):\n",
    "    numerator = N[s] + 1\n",
    "    denominator = sum([N[s] for s in N.keys()]) + len(N)\n",
    "    return numerator/denominator\n",
    "\n",
    "\n",
    "def adaptive_print_level(Il, Ih, N, S_P):\n",
    "    ALPHABET = sorted(N.keys())\n",
    "    Interval_str = \"Interval [{}, {})\".format(Il, Ih)\n",
    "    N_str        = \"    \"\n",
    "    P_str        = \"    \"\n",
    "    for s in ALPHABET:\n",
    "        N_str += \"N({})={} \".format(s, N[s])\n",
    "    for s in ALPHABET:\n",
    "        P_str += \"P({})={} \".format(s, S_P[s])\n",
    "    print(Interval_str)\n",
    "    print(N_str)\n",
    "    print(P_str)\n",
    "\n",
    "\n",
    "def adaptive_encode(T):\n",
    "    ALPHABET = sorted(list(set(list(T))))\n",
    "    \n",
    "    N = {}\n",
    "    for s in ALPHABET:\n",
    "        N[s] = 0\n",
    "    \n",
    "    S_P = {}\n",
    "    for s in ALPHABET:\n",
    "        S_P[s] = float(adaptive_p(s, N))\n",
    "    S_L_H = interval_bounds(S_P)\n",
    "    \n",
    "    Il = 0.0\n",
    "    Ih = 1.0\n",
    "    adaptive_print_level(Il, Ih, N, S_P)\n",
    "    \n",
    "    for t in T:\n",
    "        print(\"Encode {}:\".format(t))\n",
    "        r = (Decimal(str(Ih)) - Decimal(str(Il)))\n",
    "        Ih = float(Decimal(str(Il)) + (Decimal(str(S_L_H[t][1]))) * r)\n",
    "        Il = float(Decimal(str(Il)) + (Decimal(str(S_L_H[t][0]))) * r)\n",
    "        \n",
    "        N[t] += 1\n",
    "        S_P = {}\n",
    "        for s in ALPHABET:\n",
    "            S_P[s] = float(adaptive_p(s, N))\n",
    "        S_L_H = interval_bounds(S_P)\n",
    "        adaptive_print_level(Il, Ih, N, S_P)"
   ]
  },
  {
   "cell_type": "code",
   "execution_count": 11,
   "metadata": {},
   "outputs": [
    {
     "name": "stdout",
     "output_type": "stream",
     "text": [
      "Interval [0.0, 1.0)\n",
      "    N(a)=0 N(b)=0 N(c)=0 \n",
      "    P(a)=0.3333333333333333 P(b)=0.3333333333333333 P(c)=0.3333333333333333 \n",
      "Encode b:\n",
      "Interval [0.3333333333333333, 0.6666666666666666)\n",
      "    N(a)=0 N(b)=1 N(c)=0 \n",
      "    P(a)=0.25 P(b)=0.5 P(c)=0.25 \n",
      "Encode c:\n",
      "Interval [0.5833333333333333, 0.6666666666666666)\n",
      "    N(a)=0 N(b)=1 N(c)=1 \n",
      "    P(a)=0.2 P(b)=0.4 P(c)=0.4 \n",
      "Encode c:\n",
      "Interval [0.6333333333333333, 0.6666666666666666)\n",
      "    N(a)=0 N(b)=1 N(c)=2 \n",
      "    P(a)=0.16666666666666666 P(b)=0.3333333333333333 P(c)=0.5 \n",
      "Encode b:\n",
      "Interval [0.6388888888888888, 0.6499999999999999)\n",
      "    N(a)=0 N(b)=2 N(c)=2 \n",
      "    P(a)=0.14285714285714285 P(b)=0.42857142857142855 P(c)=0.42857142857142855 \n",
      "Encode a:\n",
      "Interval [0.6388888888888888, 0.6404761904761904)\n",
      "    N(a)=1 N(b)=2 N(c)=2 \n",
      "    P(a)=0.25 P(b)=0.375 P(c)=0.375 \n"
     ]
    }
   ],
   "source": [
    "# Example for PDF 6 slide 19\n",
    "adaptive_encode(\"bccba\")"
   ]
  }
 ],
 "metadata": {
  "kernelspec": {
   "display_name": "Python 3",
   "language": "python",
   "name": "python3"
  },
  "language_info": {
   "codemirror_mode": {
    "name": "ipython",
    "version": 3
   },
   "file_extension": ".py",
   "mimetype": "text/x-python",
   "name": "python",
   "nbconvert_exporter": "python",
   "pygments_lexer": "ipython3",
   "version": "3.9.7"
  }
 },
 "nbformat": 4,
 "nbformat_minor": 2
}
