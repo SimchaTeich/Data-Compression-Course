{
 "cells": [
  {
   "cell_type": "markdown",
   "metadata": {},
   "source": [
    "Unary Code\n",
    "* The simble x is represented as x-1 \"1\" bits, followed by a single \"0\" bit."
   ]
  },
  {
   "cell_type": "code",
   "execution_count": 1,
   "metadata": {},
   "outputs": [],
   "source": [
    "from tabulate import tabulate\n",
    "from math import log2, ceil"
   ]
  },
  {
   "cell_type": "code",
   "execution_count": 2,
   "metadata": {},
   "outputs": [],
   "source": [
    "def Unary_Code(i):\n",
    "    \"\"\"\n",
    "    Return the unary coade for a simbol s in given index i\n",
    "    Note: 1 <= i\n",
    "    \"\"\"\n",
    "    return \"1\" * (i - 1) + \"0\""
   ]
  },
  {
   "cell_type": "code",
   "execution_count": 3,
   "metadata": {},
   "outputs": [
    {
     "name": "stdout",
     "output_type": "stream",
     "text": [
      "+--------------+------------+\n",
      "| Symbol Index | Unary Code |\n",
      "+--------------+------------+\n",
      "|      1       |     0      |\n",
      "|      2       |     10     |\n",
      "|      3       |    110     |\n",
      "|      4       |    1110    |\n",
      "|      5       |   11110    |\n",
      "|      6       |   111110   |\n",
      "|      7       |  1111110   |\n",
      "|      8       |  11111110  |\n",
      "|      9       | 111111110  |\n",
      "+--------------+------------+\n"
     ]
    }
   ],
   "source": [
    "# Unary Code Example\n",
    "\n",
    "n = 9\n",
    "ALPHABET_Indexes = [i for i in range(1, n+1)] # indexes starting from 1\n",
    "C                = [Unary_Code(i) for i in range(1, n+1)]\n",
    "print(tabulate({'Symbol Index':ALPHABET_Indexes, 'Unary Code':C}, headers=\"keys\", tablefmt=\"pretty\"))"
   ]
  },
  {
   "cell_type": "markdown",
   "metadata": {},
   "source": [
    "Binary Code:\n",
    "* Simple Binary Code - every symbol is assigned a codeword of exactly UP[logs(n)] bits\n",
    "* Minimal Binary Code - for an alphabet of n symbols, a minimal binary code contains 2^(DOWN[logs(n)])-n codewords that are DOWN[log2(n)] bits long and the remaining 2n-2^(UP[log2(n)]) are UP[logs(n)] bits long."
   ]
  },
  {
   "cell_type": "code",
   "execution_count": 4,
   "metadata": {},
   "outputs": [],
   "source": [
    "def Simple_Binary_Code(i, n):\n",
    "    \"\"\"\n",
    "    Return the simple binary code for a symbol s by it's\n",
    "    index i, and by given alphabet size n.\n",
    "    Encoding: every symbol is assigned a codeword\n",
    "               of exactly ceil(log2(n)) bits\n",
    "    Note: 1 <= i\n",
    "    \"\"\"\n",
    "    # codewords start from 0, but 1<=i.\n",
    "    # So, the encoder takes the index i but encoding by i-1 binary value string.\n",
    "    return bin(i-1)[2:].zfill(ceil(log2(n)))"
   ]
  },
  {
   "cell_type": "code",
   "execution_count": 5,
   "metadata": {},
   "outputs": [
    {
     "name": "stdout",
     "output_type": "stream",
     "text": [
      "+--------------+--------------------+\n",
      "| Symbol Index | Simple Binary Code |\n",
      "+--------------+--------------------+\n",
      "|      1       |        0000        |\n",
      "|      2       |        0001        |\n",
      "|      3       |        0010        |\n",
      "|      4       |        0011        |\n",
      "|      5       |        0100        |\n",
      "|      6       |        0101        |\n",
      "|      7       |        0110        |\n",
      "|      8       |        0111        |\n",
      "|      9       |        1000        |\n",
      "+--------------+--------------------+\n"
     ]
    }
   ],
   "source": [
    "# Simple Binary Code Example\n",
    "\n",
    "n = 9\n",
    "ALPHABET_Indexes = [i for i in range(1, n+1)] # indexes starting from 1\n",
    "C                = [Simple_Binary_Code(i, n) for i in range(1, n+1)]\n",
    "print(tabulate({'Symbol Index':ALPHABET_Indexes, 'Simple Binary Code':C}, headers=\"keys\", tablefmt=\"pretty\"))"
   ]
  },
  {
   "cell_type": "code",
   "execution_count": 6,
   "metadata": {},
   "outputs": [],
   "source": [
    "def Minimal_Binary_Code(i, n):\n",
    "    \"\"\"\n",
    "    Return the minimal binary code for a simbol s by it's\n",
    "    index i, and by given alphabet size n.\n",
    "    Encoding: the first [2^(ceil(log2(n)))-n] symbols are\n",
    "              assigned a codewords of exaclty int(log2(n)) bits.\n",
    "              and the rest codewords with ceil(log2(n)) bits per codeword.\n",
    "    Note: 1 <= i\n",
    "    \"\"\"\n",
    "    max_index_for_short   = 2**(int(ceil(log2(n)))) - n\n",
    "    num_of_bits_for_short = int(int(log2(n)))\n",
    "    num_of_bits_for_long  = int(ceil(log2(n)))\n",
    "\n",
    "    if (i <= max_index_for_short):\n",
    "        return bin(i - 1)[2:].zfill(num_of_bits_for_short)\n",
    "    else: # to get the right codeword (prefix-free), omit all the leafs was cancels by shorter codewords and start coding from the first leaf wasn't canceld.\n",
    "        return bin((2*max_index_for_short - 1) + (i - max_index_for_short))[2:].zfill(num_of_bits_for_long)"
   ]
  },
  {
   "cell_type": "code",
   "execution_count": 7,
   "metadata": {},
   "outputs": [
    {
     "name": "stdout",
     "output_type": "stream",
     "text": [
      "+--------------+---------------------+\n",
      "| Symbol Index | Minimal Binary Code |\n",
      "+--------------+---------------------+\n",
      "|      1       |         000         |\n",
      "|      2       |         001         |\n",
      "|      3       |         010         |\n",
      "|      4       |         011         |\n",
      "|      5       |         100         |\n",
      "|      6       |         101         |\n",
      "|      7       |         110         |\n",
      "|      8       |        1110         |\n",
      "|      9       |        1111         |\n",
      "+--------------+---------------------+\n"
     ]
    }
   ],
   "source": [
    "# Minimal Binary Code Example\n",
    "\n",
    "n = 9\n",
    "ALPHABET_Indexes = [i for i in range(1, n+1)] # indexes starting from 1\n",
    "C                = [Minimal_Binary_Code(i, n) for i in range(1, n+1)]\n",
    "print(tabulate({'Symbol Index':ALPHABET_Indexes, 'Minimal Binary Code':C}, headers=\"keys\", tablefmt=\"pretty\"))"
   ]
  },
  {
   "cell_type": "markdown",
   "metadata": {},
   "source": [
    "Elias Codes:\n",
    "* C-gama - \n",
    "    * First part: unary code for the number of bits in x\n",
    "    * Second part: a binary code for x within the range established by the unary part\n",
    "* C-delta - \n",
    "    * First part: C-game code fro the number of bits in x\n",
    "    * Second part: a binary code for x within the range established by the C-gama part "
   ]
  },
  {
   "cell_type": "code",
   "execution_count": 8,
   "metadata": {},
   "outputs": [],
   "source": [
    "def C_gama(i):\n",
    "    \"\"\"\n",
    "    Return the C-gama Elias code for a simbol s by it's index i.\n",
    "    Encoding:\n",
    "        first part  - Unary Code for the number of bits in i\n",
    "        second part - a binary code for i within the range\n",
    "                      established by the unary part\n",
    "    Note: 1 <= i\n",
    "    Note2: Omit the first bit in the second part\n",
    "    Note3: For readability (just for this example) keep space (' ')\n",
    "           between the two parts of the code.\n",
    "    \"\"\"\n",
    "    return Unary_Code(1 + int(log2(i))) + ' ' + bin(i)[3:]"
   ]
  },
  {
   "cell_type": "code",
   "execution_count": 9,
   "metadata": {},
   "outputs": [
    {
     "name": "stdout",
     "output_type": "stream",
     "text": [
      "+--------------+-------------------+\n",
      "| Symbol Index | Elias C-gama Code |\n",
      "+--------------+-------------------+\n",
      "|      1       |         0         |\n",
      "|      2       |       10 0        |\n",
      "|      3       |       10 1        |\n",
      "|      4       |      110 00       |\n",
      "|      5       |      110 01       |\n",
      "|      6       |      110 10       |\n",
      "|      7       |      110 11       |\n",
      "|      8       |     1110 000      |\n",
      "|      9       |     1110 001      |\n",
      "+--------------+-------------------+\n"
     ]
    }
   ],
   "source": [
    "# Elias C-gama Code Example\n",
    "\n",
    "n = 9\n",
    "ALPHABET_Indexes = [i for i in range(1, n+1)] # indexes starting from 1\n",
    "C                = [C_gama(i) for i in range(1, n+1)]\n",
    "print(tabulate({'Symbol Index':ALPHABET_Indexes, 'Elias C-gama Code':C}, headers=\"keys\", tablefmt=\"pretty\"))"
   ]
  },
  {
   "cell_type": "code",
   "execution_count": 10,
   "metadata": {},
   "outputs": [],
   "source": [
    "def C_delta(i):\n",
    "    \"\"\"\n",
    "    Return the C-delta Elias code for a simbol s by it's index i.\n",
    "    Encoding:\n",
    "        first part  - C-gama Code for the number of bits in i\n",
    "        second part - a binary code for i within the range\n",
    "                      established by the unary part\n",
    "    Note: 1 <= i\n",
    "    Note2: Omit the first bit in the second part\n",
    "    Note3: For readability (just for this example) keep space (' ')\n",
    "           between the two parts of the code.\n",
    "    Note4: using C_gama function, so dont forget remove the space char\n",
    "           from the result from it.\n",
    "    \"\"\"\n",
    "    return C_gama(1 + int(log2(i))).replace(' ', '') + ' ' + bin(i)[3:]"
   ]
  },
  {
   "cell_type": "code",
   "execution_count": 11,
   "metadata": {},
   "outputs": [
    {
     "name": "stdout",
     "output_type": "stream",
     "text": [
      "+--------------+--------------------+\n",
      "| Symbol Index | Elias C-delta Code |\n",
      "+--------------+--------------------+\n",
      "|      1       |         0          |\n",
      "|      2       |       100 0        |\n",
      "|      3       |       100 1        |\n",
      "|      4       |       101 00       |\n",
      "|      5       |       101 01       |\n",
      "|      6       |       101 10       |\n",
      "|      7       |       101 11       |\n",
      "|      8       |     11000 000      |\n",
      "|      9       |     11000 001      |\n",
      "+--------------+--------------------+\n"
     ]
    }
   ],
   "source": [
    "# Elias C-delta Code Example\n",
    "\n",
    "n = 9\n",
    "ALPHABET_Indexes = [i for i in range(1, n+1)] # indexes starting from 1\n",
    "C                = [C_delta(i) for i in range(1, n+1)]\n",
    "print(tabulate({'Symbol Index':ALPHABET_Indexes, 'Elias C-delta Code':C}, headers=\"keys\", tablefmt=\"pretty\"))"
   ]
  },
  {
   "cell_type": "code",
   "execution_count": 12,
   "metadata": {},
   "outputs": [
    {
     "name": "stdout",
     "output_type": "stream",
     "text": [
      "+--------------+--------------------------------+--------------------+---------------------+-------------+--------------+\n",
      "| Symbol Index |           Unary Code           | Simple Binary Code | Minimal Binary Code | C-gama Code | C-delta Code |\n",
      "+--------------+--------------------------------+--------------------+---------------------+-------------+--------------+\n",
      "|      1       |               0                |       00000        |        0000         |      0      |      0       |\n",
      "|      2       |               10               |       00001        |        0001         |    10 0     |    100 0     |\n",
      "|      3       |              110               |       00010        |        00100        |    10 1     |    100 1     |\n",
      "|      4       |              1110              |       00011        |        00101        |   110 00    |    101 00    |\n",
      "|      5       |             11110              |       00100        |        00110        |   110 01    |    101 01    |\n",
      "|      6       |             111110             |       00101        |        00111        |   110 10    |    101 10    |\n",
      "|      7       |            1111110             |       00110        |        01000        |   110 11    |    101 11    |\n",
      "|      8       |            11111110            |       00111        |        01001        |  1110 000   |  11000 000   |\n",
      "|      9       |           111111110            |       01000        |        01010        |  1110 001   |  11000 001   |\n",
      "|      10      |           1111111110           |       01001        |        01011        |  1110 010   |  11000 010   |\n",
      "|      11      |          11111111110           |       01010        |        01100        |  1110 011   |  11000 011   |\n",
      "|      12      |          111111111110          |       01011        |        01101        |  1110 100   |  11000 100   |\n",
      "|      13      |         1111111111110          |       01100        |        01110        |  1110 101   |  11000 101   |\n",
      "|      14      |         11111111111110         |       01101        |        01111        |  1110 110   |  11000 110   |\n",
      "|      15      |        111111111111110         |       01110        |        10000        |  1110 111   |  11000 111   |\n",
      "|      16      |        1111111111111110        |       01111        |        10001        | 11110 0000  |  11001 0000  |\n",
      "|      17      |       11111111111111110        |       10000        |        10010        | 11110 0001  |  11001 0001  |\n",
      "|      18      |       111111111111111110       |       10001        |        10011        | 11110 0010  |  11001 0010  |\n",
      "|      19      |      1111111111111111110       |       10010        |        10100        | 11110 0011  |  11001 0011  |\n",
      "|      20      |      11111111111111111110      |       10011        |        10101        | 11110 0100  |  11001 0100  |\n",
      "|      21      |     111111111111111111110      |       10100        |        10110        | 11110 0101  |  11001 0101  |\n",
      "|      22      |     1111111111111111111110     |       10101        |        10111        | 11110 0110  |  11001 0110  |\n",
      "|      23      |    11111111111111111111110     |       10110        |        11000        | 11110 0111  |  11001 0111  |\n",
      "|      24      |    111111111111111111111110    |       10111        |        11001        | 11110 1000  |  11001 1000  |\n",
      "|      25      |   1111111111111111111111110    |       11000        |        11010        | 11110 1001  |  11001 1001  |\n",
      "|      26      |   11111111111111111111111110   |       11001        |        11011        | 11110 1010  |  11001 1010  |\n",
      "|      27      |  111111111111111111111111110   |       11010        |        11100        | 11110 1011  |  11001 1011  |\n",
      "|      28      |  1111111111111111111111111110  |       11011        |        11101        | 11110 1100  |  11001 1100  |\n",
      "|      29      | 11111111111111111111111111110  |       11100        |        11110        | 11110 1101  |  11001 1101  |\n",
      "|      30      | 111111111111111111111111111110 |       11101        |        11111        | 11110 1110  |  11001 1110  |\n",
      "+--------------+--------------------------------+--------------------+---------------------+-------------+--------------+\n"
     ]
    }
   ],
   "source": [
    "# A summary example:\n",
    "n = 30\n",
    "ALPHABET_Indexes = [i for i in range(1, n+1)] # indexes starting from 1\n",
    "Unary_C          = [Unary_Code(i) for i in range(1, n+1)]\n",
    "Simple_Binary_C  = [Simple_Binary_Code(i, n) for i in range(1, n+1)]\n",
    "Minimal_Binary_C = [Minimal_Binary_Code(i, n) for i in range(1, n+1)]\n",
    "C_gama_C         = [C_gama(i) for i in range(1, n+1)]\n",
    "C_delta_C        = [C_delta(i) for i in range(1, n+1)]\n",
    "\n",
    "print(tabulate({'Symbol Index':ALPHABET_Indexes,\\\n",
    "                'Unary Code':Unary_C,\n",
    "                'Simple Binary Code':Simple_Binary_C,\\\n",
    "                'Minimal Binary Code':Minimal_Binary_C,\\\n",
    "                'C-gama Code':C_gama_C,\\\n",
    "                'C-delta Code':C_delta_C},\\\n",
    "                headers=\"keys\", tablefmt=\"pretty\"))"
   ]
  },
  {
   "cell_type": "markdown",
   "metadata": {},
   "source": [
    "Shanon-Fano Algoritm:\n",
    "* Arrange the character set in order of decreasing probability\n",
    "* While a probability class contains more than one symbol:\n",
    "    * Divide the probability class in two\n",
    "        * so that the probabilities in the two halves are as nearly as possible equal\n",
    "    * Assign '1' to the first probability class, and '0' to the second."
   ]
  },
  {
   "cell_type": "code",
   "execution_count": 13,
   "metadata": {},
   "outputs": [],
   "source": [
    "from decimal import Decimal\n",
    "\n",
    "def shannon_fano_recursion(li):\n",
    "    left = []\n",
    "    right = []\n",
    "\n",
    "    gap = sum(Decimal(str(p)) for _, p, _ in li)\n",
    "\n",
    "    # Divide it to two lists. assume |li| > 1\n",
    "    s, p, c = li[0]\n",
    "    while gap > Decimal(str(p)):\n",
    "        left.append((s,p,c+'0'))\n",
    "        gap -= 2*Decimal(str(p))\n",
    "        \n",
    "        # prepare the next\n",
    "        li = li[1:]\n",
    "        s, p, c = li[0]\n",
    "    \n",
    "    # all the remaining goes to the right\n",
    "    for (l, p, c) in li:\n",
    "        right.append((l,p,c+'1'))\n",
    "\n",
    "    if len(left) == 1 and len(right) == 1:\n",
    "        return left + right\n",
    "    elif len(left) == 1:\n",
    "        return left + shannon_fano_recursion(right)\n",
    "    elif len(right) == 1:\n",
    "        return right + shannon_fano_recursion(left)\n",
    "    else:\n",
    "        return shannon_fano_recursion(left) + shannon_fano_recursion(right)\n",
    "\n",
    "\n",
    "\n",
    "def shannon_fano(S, P):\n",
    "    # make the initial list with the structure [(simbol, probablity, codeword)]\n",
    "    codewords = [''] * len(S)\n",
    "    l = list(zip(S, P, codewords))\n",
    "\n",
    "    # sort by probability before get inside the algorithm\n",
    "    sorted(l, key=lambda triple: triple[1], reverse=True)\n",
    "    \n",
    "    # return the list [(simbol, probablity, codeword)] with full codewords.\n",
    "    return shannon_fano_recursion(l)"
   ]
  },
  {
   "cell_type": "code",
   "execution_count": 14,
   "metadata": {},
   "outputs": [],
   "source": [
    "# Function from lecture 1\n",
    "\n",
    "def ECL(P, C):\n",
    "    \"\"\"\n",
    "    return the E(P, C)\n",
    "    \"\"\"\n",
    "    n = len(C)\n",
    "    return float(sum([Decimal(str(P[i])) * Decimal(str(len(C[i]))) for i in range(n)]))"
   ]
  },
  {
   "cell_type": "code",
   "execution_count": 15,
   "metadata": {},
   "outputs": [
    {
     "name": "stdout",
     "output_type": "stream",
     "text": [
      "+--------+------+----------+\n",
      "| simbol | prob | codeword |\n",
      "+--------+------+----------+\n",
      "|   a    | 0.67 |    0     |\n",
      "|   b    | 0.11 |   100    |\n",
      "|   c    | 0.07 |   101    |\n",
      "|   d    | 0.06 |   110    |\n",
      "|   e    | 0.05 |   1110   |\n",
      "|   f    | 0.04 |   1111   |\n",
      "+--------+------+----------+\n",
      "E(P, C) = 1.75\n"
     ]
    }
   ],
   "source": [
    "# Shannon-Fano Example from PDF 3 slide 22\n",
    "\n",
    "S = ['a', 'b', 'c', 'd', 'e', 'f']\n",
    "P = [0.67, 0.11, 0.07, 0.06, 0.05, 0.04]\n",
    "\n",
    "# get S and P again to check no issues.\n",
    "s_p_c = shannon_fano(S, P)\n",
    "S = [s for s, _, _ in s_p_c]\n",
    "P = [p for _, p, _ in s_p_c]\n",
    "C = [c for _, _, c in s_p_c]\n",
    "\n",
    "print(tabulate({'simbol':S, 'prob':P, 'codeword':C}, headers=\"keys\", tablefmt=\"pretty\"))\n",
    "print(\"E(P, C) = {}\".format(ECL(P, C)))"
   ]
  },
  {
   "cell_type": "code",
   "execution_count": 16,
   "metadata": {},
   "outputs": [
    {
     "name": "stdout",
     "output_type": "stream",
     "text": [
      "+--------+------+----------+\n",
      "| simbol | prob | codeword |\n",
      "+--------+------+----------+\n",
      "|   a    | 0.4  |    00    |\n",
      "|   b    | 0.1  |    01    |\n",
      "|   c    | 0.1  |   100    |\n",
      "|   d    | 0.1  |   101    |\n",
      "|   e    | 0.1  |   110    |\n",
      "|   f    | 0.1  |   1110   |\n",
      "|   G    | 0.1  |   1111   |\n",
      "+--------+------+----------+\n",
      "E(P, C) = 2.7\n"
     ]
    }
   ],
   "source": [
    "# Shannon-Fano Example from PDF 3 slide 23\n",
    "\n",
    "S = ['a', 'b', 'c', 'd', 'e', 'f', 'G']\n",
    "P = [0.4, 0.1, 0.1, 0.1, 0.1, 0.1, 0.1]\n",
    "\n",
    "# get S and P again to check no issues.\n",
    "s_p_c = shannon_fano(S, P)\n",
    "S = [s for s, _, _ in s_p_c]\n",
    "P = [p for _, p, _ in s_p_c]\n",
    "C = [c for _, _, c in s_p_c]\n",
    "\n",
    "print(tabulate({'simbol':S, 'prob':P, 'codeword':C}, headers=\"keys\", tablefmt=\"pretty\"))\n",
    "print(\"E(P, C) = {}\".format(ECL(P, C)))"
   ]
  }
 ],
 "metadata": {
  "kernelspec": {
   "display_name": "Python 3",
   "language": "python",
   "name": "python3"
  },
  "language_info": {
   "codemirror_mode": {
    "name": "ipython",
    "version": 3
   },
   "file_extension": ".py",
   "mimetype": "text/x-python",
   "name": "python",
   "nbconvert_exporter": "python",
   "pygments_lexer": "ipython3",
   "version": "3.9.7"
  }
 },
 "nbformat": 4,
 "nbformat_minor": 2
}
