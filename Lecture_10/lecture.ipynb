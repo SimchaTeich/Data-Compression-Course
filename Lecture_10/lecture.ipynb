{
 "cells": [
  {
   "cell_type": "markdown",
   "metadata": {},
   "source": [
    "BWT"
   ]
  },
  {
   "cell_type": "code",
   "execution_count": 1,
   "metadata": {},
   "outputs": [],
   "source": [
    "def print_matrix(M):\n",
    "    for line in M:\n",
    "        print(\" \".join(list(line)))"
   ]
  },
  {
   "cell_type": "code",
   "execution_count": 2,
   "metadata": {},
   "outputs": [],
   "source": [
    "def BWT(T):\n",
    "    matrix = []\n",
    "    for i in range(len(T)):\n",
    "        matrix.append(T[i:]+T[:i])\n",
    "    \n",
    "    print(\"Stage 1: matrix\")\n",
    "    print_matrix(matrix)\n",
    "\n",
    "    print()\n",
    "\n",
    "    print(\"Stage 2: sorting\")\n",
    "    matrix = sorted(matrix)\n",
    "    print_matrix(matrix)\n",
    "\n",
    "    print()\n",
    "\n",
    "    print(\"Stage 3: find index\")\n",
    "    index = matrix.index(T)\n",
    "    L     = ''.join([line[-1] for line in matrix])\n",
    "    print(\"BWT({})=({}, {})\".format(T, L, index))\n",
    "\n",
    "    return L, index"
   ]
  },
  {
   "cell_type": "code",
   "execution_count": 3,
   "metadata": {},
   "outputs": [
    {
     "name": "stdout",
     "output_type": "stream",
     "text": [
      "Stage 1: matrix\n",
      "b a n a n a\n",
      "a n a n a b\n",
      "n a n a b a\n",
      "a n a b a n\n",
      "n a b a n a\n",
      "a b a n a n\n",
      "\n",
      "Stage 2: sorting\n",
      "a b a n a n\n",
      "a n a b a n\n",
      "a n a n a b\n",
      "b a n a n a\n",
      "n a b a n a\n",
      "n a n a b a\n",
      "\n",
      "Stage 3: find index\n",
      "BWT(banana)=(nnbaaa, 3)\n"
     ]
    },
    {
     "data": {
      "text/plain": [
       "('nnbaaa', 3)"
      ]
     },
     "execution_count": 3,
     "metadata": {},
     "output_type": "execute_result"
    }
   ],
   "source": [
    "# Example 1\n",
    "text = \"banana\"\n",
    "BWT(text)"
   ]
  },
  {
   "cell_type": "code",
   "execution_count": 4,
   "metadata": {},
   "outputs": [
    {
     "name": "stdout",
     "output_type": "stream",
     "text": [
      "Stage 1: matrix\n",
      "m i s s i s s i p p i\n",
      "i s s i s s i p p i m\n",
      "s s i s s i p p i m i\n",
      "s i s s i p p i m i s\n",
      "i s s i p p i m i s s\n",
      "s s i p p i m i s s i\n",
      "s i p p i m i s s i s\n",
      "i p p i m i s s i s s\n",
      "p p i m i s s i s s i\n",
      "p i m i s s i s s i p\n",
      "i m i s s i s s i p p\n",
      "\n",
      "Stage 2: sorting\n",
      "i m i s s i s s i p p\n",
      "i p p i m i s s i s s\n",
      "i s s i p p i m i s s\n",
      "i s s i s s i p p i m\n",
      "m i s s i s s i p p i\n",
      "p i m i s s i s s i p\n",
      "p p i m i s s i s s i\n",
      "s i p p i m i s s i s\n",
      "s i s s i p p i m i s\n",
      "s s i p p i m i s s i\n",
      "s s i s s i p p i m i\n",
      "\n",
      "Stage 3: find index\n",
      "BWT(mississippi)=(pssmipissii, 4)\n"
     ]
    },
    {
     "data": {
      "text/plain": [
       "('pssmipissii', 4)"
      ]
     },
     "execution_count": 4,
     "metadata": {},
     "output_type": "execute_result"
    }
   ],
   "source": [
    "# Example 2\n",
    "text = \"mississippi\"\n",
    "BWT(text)"
   ]
  },
  {
   "cell_type": "code",
   "execution_count": 5,
   "metadata": {},
   "outputs": [],
   "source": [
    "def MTF(T):\n",
    "    \"\"\"\n",
    "    MTF-List: start with sorted alphabet of T\n",
    "    \"\"\"\n",
    "    MTF_List  = sorted(list(set(list(T))))\n",
    "    code_list = []\n",
    "\n",
    "    print(\"MTF-List: {}\".format(''.join(MTF_List)))\n",
    "    for t in T:\n",
    "        index = MTF_List.index(t)\n",
    "        code_list.append(index)\n",
    "        MTF_List.remove(t)\n",
    "        MTF_List.insert(0, t)\n",
    "        print(\"MTF-List: {}\".format(''.join(MTF_List)))\n",
    "    \n",
    "    print(\"MTF({})={}\".format(T, code_list))\n",
    "    return code_list"
   ]
  },
  {
   "cell_type": "code",
   "execution_count": 6,
   "metadata": {},
   "outputs": [
    {
     "name": "stdout",
     "output_type": "stream",
     "text": [
      "MTF-List: dehlorw\n",
      "MTF-List: hdelorw\n",
      "MTF-List: ehdlorw\n",
      "MTF-List: lehdorw\n",
      "MTF-List: lehdorw\n",
      "MTF-List: olehdrw\n",
      "MTF-List: wolehdr\n",
      "MTF-List: owlehdr\n",
      "MTF-List: rowlehd\n",
      "MTF-List: lrowehd\n",
      "MTF-List: dlroweh\n",
      "MTF(helloworld)=[2, 2, 3, 0, 4, 6, 1, 6, 3, 6]\n"
     ]
    },
    {
     "data": {
      "text/plain": [
       "[2, 2, 3, 0, 4, 6, 1, 6, 3, 6]"
      ]
     },
     "execution_count": 6,
     "metadata": {},
     "output_type": "execute_result"
    }
   ],
   "source": [
    "# Example 3\n",
    "text = \"helloworld\"\n",
    "MTF(text)\n"
   ]
  },
  {
   "cell_type": "code",
   "execution_count": 7,
   "metadata": {},
   "outputs": [
    {
     "name": "stdout",
     "output_type": "stream",
     "text": [
      "Stage 1: matrix\n",
      "m i s s i s s i p i\n",
      "i s s i s s i p i m\n",
      "s s i s s i p i m i\n",
      "s i s s i p i m i s\n",
      "i s s i p i m i s s\n",
      "s s i p i m i s s i\n",
      "s i p i m i s s i s\n",
      "i p i m i s s i s s\n",
      "p i m i s s i s s i\n",
      "i m i s s i s s i p\n",
      "\n",
      "Stage 2: sorting\n",
      "i m i s s i s s i p\n",
      "i p i m i s s i s s\n",
      "i s s i p i m i s s\n",
      "i s s i s s i p i m\n",
      "m i s s i s s i p i\n",
      "p i m i s s i s s i\n",
      "s i p i m i s s i s\n",
      "s i s s i p i m i s\n",
      "s s i p i m i s s i\n",
      "s s i s s i p i m i\n",
      "\n",
      "Stage 3: find index\n",
      "BWT(mississipi)=(pssmiissii, 4)\n",
      "MTF-List: imps\n",
      "MTF-List: pims\n",
      "MTF-List: spim\n",
      "MTF-List: spim\n",
      "MTF-List: mspi\n",
      "MTF-List: imsp\n",
      "MTF-List: imsp\n",
      "MTF-List: simp\n",
      "MTF-List: simp\n",
      "MTF-List: ismp\n",
      "MTF-List: ismp\n",
      "MTF(pssmiissii)=[2, 3, 0, 3, 3, 0, 2, 0, 1, 0]\n"
     ]
    },
    {
     "data": {
      "text/plain": [
       "[2, 3, 0, 3, 3, 0, 2, 0, 1, 0]"
      ]
     },
     "execution_count": 7,
     "metadata": {},
     "output_type": "execute_result"
    }
   ],
   "source": [
    "# exmaple 4\n",
    "text = \"mississipi\"\n",
    "L, index = BWT(text)\n",
    "MTF(L)"
   ]
  }
 ],
 "metadata": {
  "kernelspec": {
   "display_name": "Python 3",
   "language": "python",
   "name": "python3"
  },
  "language_info": {
   "codemirror_mode": {
    "name": "ipython",
    "version": 3
   },
   "file_extension": ".py",
   "mimetype": "text/x-python",
   "name": "python",
   "nbconvert_exporter": "python",
   "pygments_lexer": "ipython3",
   "version": "3.9.7"
  }
 },
 "nbformat": 4,
 "nbformat_minor": 2
}
